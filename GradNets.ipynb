{
 "cells": [
  {
   "cell_type": "markdown",
   "metadata": {},
   "source": [
    "### GradNets\n",
    "\n",
    "http://arxiv.org/pdf/1511.06827v1.pdf"
   ]
  },
  {
   "cell_type": "code",
   "execution_count": 1,
   "metadata": {
    "collapsed": true
   },
   "outputs": [],
   "source": [
    "from __future__ import absolute_import\n",
    "from __future__ import division\n",
    "from __future__ import print_function\n",
    "\n",
    "import os\n",
    "import time\n",
    "import numpy as np\n",
    "import tensorflow as tf\n",
    "\n",
    "# wget https://raw.githubusercontent.com/tensorflow/tensorflow/master/tensorflow/examples/tutorials/mnist/input_data.py\n",
    "import input_data"
   ]
  },
  {
   "cell_type": "markdown",
   "metadata": {},
   "source": [
    "$$\n",
    "g = min(t/\\tau, 1)\n",
    "$$\n",
    "\n",
    "Where $g \\in (0, 1)$ and $t$ is the current epoch. In code, `g` is a weight that anneals over $\\tau$ epochs."
   ]
  },
  {
   "cell_type": "code",
   "execution_count": 2,
   "metadata": {
    "collapsed": true
   },
   "outputs": [],
   "source": [
    "def dense_layer(x, input_size, output_size, activation):\n",
    "    W = tf.Variable(tf.truncated_normal([input_size, output_size], stddev=0.1), name='weight')\n",
    "    b = tf.Variable(tf.constant(0.1, shape=[output_size]), name='bias')\n",
    "    y = activation(tf.matmul(x, W) + b)\n",
    "    return y"
   ]
  },
  {
   "cell_type": "code",
   "execution_count": 3,
   "metadata": {
    "collapsed": true
   },
   "outputs": [],
   "source": [
    "def grelu_layer(x, input_size, output_size, g):\n",
    "    W = tf.Variable(tf.truncated_normal([input_size, output_size], stddev=0.1), name='weight')\n",
    "    b = tf.Variable(tf.constant(0.1, shape=[output_size]), name='bias')\n",
    "    y = g * tf.nn.relu(tf.matmul(x, W) + b) + (1 - g) * x\n",
    "    return y"
   ]
  },
  {
   "cell_type": "code",
   "execution_count": 4,
   "metadata": {
    "collapsed": true
   },
   "outputs": [],
   "source": [
    "sess = tf.InteractiveSession()"
   ]
  },
  {
   "cell_type": "code",
   "execution_count": 5,
   "metadata": {
    "collapsed": false
   },
   "outputs": [
    {
     "name": "stdout",
     "output_type": "stream",
     "text": [
      "Extracting /Users/andy/data/mnist/train-images-idx3-ubyte.gz\n",
      "Extracting /Users/andy/data/mnist/train-labels-idx1-ubyte.gz\n",
      "Extracting /Users/andy/data/mnist/t10k-images-idx3-ubyte.gz\n",
      "Extracting /Users/andy/data/mnist/t10k-labels-idx1-ubyte.gz\n"
     ]
    }
   ],
   "source": [
    "mnist = input_data.read_data_sets(os.path.expanduser('~') + \"/data/mnist/\", one_hot=True)"
   ]
  },
  {
   "cell_type": "code",
   "execution_count": 6,
   "metadata": {
    "collapsed": true
   },
   "outputs": [],
   "source": [
    "input_layer_size = 784\n",
    "hidden_layer_size = 50 # use ~71 for fully-connected (plain) layers, 50 for highway layers\n",
    "output_layer_size = 10\n",
    "\n",
    "x = tf.placeholder(\"float\", [None, input_layer_size])\n",
    "y_ = tf.placeholder(\"float\", [None, output_layer_size])\n",
    "g = tf.placeholder(\"float\")\n",
    "learning_rate = tf.placeholder(\"float\")\n",
    "mini_batch_size = 50\n",
    "num_epochs = 20\n",
    "tau = 10 # num epochs to anneal g over"
   ]
  },
  {
   "cell_type": "code",
   "execution_count": 7,
   "metadata": {
    "collapsed": true
   },
   "outputs": [],
   "source": [
    "layer_count = 50\n",
    "\n",
    "prev_y = None\n",
    "y = None\n",
    "for i in range(layer_count):\n",
    "    with tf.name_scope(\"layer{0}\".format(i)) as scope:\n",
    "        if i == 0: # first, input layer\n",
    "            prev_y = dense_layer(x, input_layer_size, hidden_layer_size, tf.nn.relu)\n",
    "        elif i == layer_count - 1: # last, output layer\n",
    "            y = dense_layer(prev_y, hidden_layer_size, output_layer_size, tf.nn.softmax)\n",
    "        else: # hidden layers\n",
    "            prev_y = grelu_layer(prev_y, hidden_layer_size, hidden_layer_size, g)"
   ]
  },
  {
   "cell_type": "code",
   "execution_count": 8,
   "metadata": {
    "collapsed": false
   },
   "outputs": [],
   "source": [
    "with tf.name_scope(\"loss\") as scope:\n",
    "    cross_entropy = -tf.reduce_sum(y_ * tf.log(y))\n",
    "    cross_entropy_summary = tf.scalar_summary(\"loss\", cross_entropy)\n",
    "\n",
    "with tf.name_scope(\"train\") as scope:\n",
    "    optimizer = tf.train.GradientDescentOptimizer(1e-2)\n",
    "    weight_gradients = [\n",
    "        grad \n",
    "        for grad, var \n",
    "        in optimizer.compute_gradients(cross_entropy) \n",
    "        if \"weight\" in var.name\n",
    "    ][1:-1] # drop layer0 and layer49\n",
    "    gradient_norm = tf.reduce_mean(tf.concat(0, weight_gradients))\n",
    "    gradient_summary = tf.scalar_summary(\"gradient_norm\", gradient_norm)\n",
    "    train_step = optimizer.minimize(cross_entropy)\n",
    "\n",
    "with tf.name_scope(\"test\") as scope:\n",
    "    correct_prediction = tf.equal(tf.argmax(y, 1), tf.argmax(y_, 1))\n",
    "    accuracy = tf.reduce_mean(tf.cast(correct_prediction, \"float\"))\n",
    "    accuracy_summary = tf.scalar_summary(\"accuracy\", accuracy)"
   ]
  },
  {
   "cell_type": "code",
   "execution_count": 9,
   "metadata": {
    "collapsed": false
   },
   "outputs": [
    {
     "name": "stdout",
     "output_type": "stream",
     "text": [
      "mnist_logs_1451520911/\n"
     ]
    }
   ],
   "source": [
    "merged = tf.merge_all_summaries()\n",
    "\n",
    "log_path = \"mnist_logs_{0}/\".format(int(time.time()))\n",
    "print(log_path)\n",
    "writer = tf.train.SummaryWriter(log_path, sess.graph_def)"
   ]
  },
  {
   "cell_type": "code",
   "execution_count": 10,
   "metadata": {
    "collapsed": false
   },
   "outputs": [
    {
     "name": "stdout",
     "output_type": "stream",
     "text": [
      "Running 20 epochs with mini batch size of 50\n",
      "With 1100 iterations per epoch for a total of 22000 iterations\n"
     ]
    }
   ],
   "source": [
    "tf.initialize_all_variables().run()\n",
    "\n",
    "iter_per_epoch = int(mnist.train.num_examples / mini_batch_size)\n",
    "num_iter = num_epochs * iter_per_epoch\n",
    "print(\"Running %d epochs with mini batch size of %d\" % (num_epochs, mini_batch_size))\n",
    "print(\"With %d iterations per epoch for a total of %d iterations\" % (iter_per_epoch, num_iter))"
   ]
  },
  {
   "cell_type": "code",
   "execution_count": 11,
   "metadata": {
    "collapsed": false
   },
   "outputs": [
    {
     "name": "stdout",
     "output_type": "stream",
     "text": [
      "iter 0, epoch 0, training accuracy 0.12, g: 0, grad_norm: 0\n",
      "test accuracy 0.0945\n",
      "iter 100, epoch 0, training accuracy 0.86, g: 0.00909091, grad_norm: -8.33214e-05\n",
      "test accuracy 0.8853\n",
      "iter 200, epoch 0, training accuracy 0.94, g: 0.0181818, grad_norm: -1.93185e-05\n",
      "test accuracy 0.9058\n",
      "iter 300, epoch 0, training accuracy 0.88, g: 0.0272727, grad_norm: -0.000155139\n",
      "test accuracy 0.9093\n",
      "iter 400, epoch 0, training accuracy 0.94, g: 0.0363636, grad_norm: 0.00018907\n",
      "test accuracy 0.9158\n",
      "iter 500, epoch 0, training accuracy 0.82, g: 0.0454545, grad_norm: -0.000708206\n",
      "test accuracy 0.9077\n",
      "iter 600, epoch 0, training accuracy 0.98, g: 0.0545455, grad_norm: 0.000203154\n",
      "test accuracy 0.9189\n",
      "iter 700, epoch 0, training accuracy 0.98, g: 0.0636364, grad_norm: -0.000361135\n",
      "test accuracy 0.9099\n",
      "iter 800, epoch 0, training accuracy 0.86, g: 0.0727273, grad_norm: 0.000576911\n",
      "test accuracy 0.9043\n",
      "iter 900, epoch 0, training accuracy 0.94, g: 0.0818182, grad_norm: 0.00152448\n",
      "test accuracy 0.9035\n",
      "iter 1000, epoch 0, training accuracy 0.94, g: 0.0909091, grad_norm: -0.00084976\n",
      "test accuracy 0.9152\n",
      "iter 1100, epoch 1, training accuracy 0.88, g: 0.1, grad_norm: -0.00456942\n",
      "test accuracy 0.9139\n",
      "iter 1200, epoch 1, training accuracy 0.86, g: 0.109091, grad_norm: 0.00444244\n",
      "test accuracy 0.9067\n",
      "iter 1300, epoch 1, training accuracy 0.84, g: 0.118182, grad_norm: -0.00171016\n",
      "test accuracy 0.9254\n",
      "iter 1400, epoch 1, training accuracy 0.96, g: 0.127273, grad_norm: -0.00263898\n",
      "test accuracy 0.9273\n",
      "iter 1500, epoch 1, training accuracy 0.94, g: 0.136364, grad_norm: -0.00336506\n",
      "test accuracy 0.9243\n",
      "iter 1600, epoch 1, training accuracy 0.92, g: 0.145455, grad_norm: -0.00187341\n",
      "test accuracy 0.9299\n",
      "iter 1700, epoch 1, training accuracy 0.98, g: 0.154545, grad_norm: -0.00323471\n",
      "test accuracy 0.9299\n",
      "iter 1800, epoch 1, training accuracy 0.96, g: 0.163636, grad_norm: 0.000383796\n",
      "test accuracy 0.9305\n",
      "iter 1900, epoch 1, training accuracy 0.88, g: 0.172727, grad_norm: 0.00239656\n",
      "test accuracy 0.9407\n",
      "iter 2000, epoch 1, training accuracy 0.92, g: 0.181818, grad_norm: 0.00266808\n",
      "test accuracy 0.9419\n",
      "iter 2100, epoch 1, training accuracy 0.92, g: 0.190909, grad_norm: 0.000237545\n",
      "test accuracy 0.9284\n",
      "iter 2200, epoch 2, training accuracy 0.96, g: 0.2, grad_norm: -0.00137414\n",
      "test accuracy 0.9406\n",
      "iter 2300, epoch 2, training accuracy 0.92, g: 0.209091, grad_norm: 0.00198115\n",
      "test accuracy 0.9466\n",
      "iter 2400, epoch 2, training accuracy 0.94, g: 0.218182, grad_norm: -0.00136797\n",
      "test accuracy 0.9423\n",
      "iter 2500, epoch 2, training accuracy 0.94, g: 0.227273, grad_norm: 0.00191037\n",
      "test accuracy 0.9353\n",
      "iter 2600, epoch 2, training accuracy 0.94, g: 0.236364, grad_norm: -0.00534611\n",
      "test accuracy 0.945\n",
      "iter 2700, epoch 2, training accuracy 0.98, g: 0.245455, grad_norm: -0.00393394\n",
      "test accuracy 0.9304\n",
      "iter 2800, epoch 2, training accuracy 0.94, g: 0.254545, grad_norm: -0.00535039\n",
      "test accuracy 0.9349\n",
      "iter 2900, epoch 2, training accuracy 0.94, g: 0.263636, grad_norm: 0.00112792\n",
      "test accuracy 0.9394\n",
      "iter 3000, epoch 2, training accuracy 0.96, g: 0.272727, grad_norm: -0.00228068\n",
      "test accuracy 0.9506\n",
      "iter 3100, epoch 2, training accuracy 0.9, g: 0.281818, grad_norm: 0.00498423\n",
      "test accuracy 0.9387\n",
      "iter 3200, epoch 2, training accuracy 0.98, g: 0.290909, grad_norm: -0.000364964\n",
      "test accuracy 0.946\n",
      "iter 3300, epoch 3, training accuracy 0.9, g: 0.3, grad_norm: 0.00763358\n",
      "test accuracy 0.9491\n",
      "iter 3400, epoch 3, training accuracy 0.96, g: 0.309091, grad_norm: -0.00365671\n",
      "test accuracy 0.9411\n",
      "iter 3500, epoch 3, training accuracy 0.98, g: 0.318182, grad_norm: -0.00682477\n",
      "test accuracy 0.95\n",
      "iter 3600, epoch 3, training accuracy 0.92, g: 0.327273, grad_norm: 0.0113772\n",
      "test accuracy 0.9391\n",
      "iter 3700, epoch 3, training accuracy 0.98, g: 0.336364, grad_norm: -0.00127793\n",
      "test accuracy 0.9496\n",
      "iter 3800, epoch 3, training accuracy 0.96, g: 0.345455, grad_norm: -0.00668067\n",
      "test accuracy 0.9461\n",
      "iter 3900, epoch 3, training accuracy 0.98, g: 0.354545, grad_norm: -0.004443\n",
      "test accuracy 0.9332\n",
      "iter 4000, epoch 3, training accuracy 0.86, g: 0.363636, grad_norm: -0.0111461\n",
      "test accuracy 0.8902\n",
      "iter 4100, epoch 3, training accuracy 0.98, g: 0.372727, grad_norm: -0.00480993\n",
      "test accuracy 0.9466\n",
      "iter 4200, epoch 3, training accuracy 0.96, g: 0.381818, grad_norm: -0.00101231\n",
      "test accuracy 0.9372\n",
      "iter 4300, epoch 3, training accuracy 0.94, g: 0.390909, grad_norm: -0.00433516\n",
      "test accuracy 0.9434\n",
      "iter 4400, epoch 4, training accuracy 0.92, g: 0.4, grad_norm: 0.0108913\n",
      "test accuracy 0.9484\n",
      "iter 4500, epoch 4, training accuracy 0.9, g: 0.409091, grad_norm: 0.00998572\n",
      "test accuracy 0.9284\n"
     ]
    },
    {
     "ename": "InvalidArgumentError",
     "evalue": "ReluGrad input is not finite. : Tensor had NaN values\n\t [[Node: train/gradients_1/layer0/Relu_grad/layer0/Relu/CheckNumerics = CheckNumerics[T=DT_FLOAT, message=\"ReluGrad input is not finite.\", _device=\"/job:localhost/replica:0/task:0/cpu:0\"](layer0/add)]]\nCaused by op u'train/gradients_1/layer0/Relu_grad/layer0/Relu/CheckNumerics', defined at:\n  File \"/usr/local/Cellar/python/2.7.11/Frameworks/Python.framework/Versions/2.7/lib/python2.7/runpy.py\", line 162, in _run_module_as_main\n    \"__main__\", fname, loader, pkg_name)\n  File \"/usr/local/Cellar/python/2.7.11/Frameworks/Python.framework/Versions/2.7/lib/python2.7/runpy.py\", line 72, in _run_code\n    exec code in run_globals\n  File \"/usr/local/lib/python2.7/site-packages/ipykernel/__main__.py\", line 3, in <module>\n    app.launch_new_instance()\n  File \"/usr/local/lib/python2.7/site-packages/traitlets/config/application.py\", line 592, in launch_instance\n    app.start()\n  File \"/usr/local/lib/python2.7/site-packages/ipykernel/kernelapp.py\", line 403, in start\n    ioloop.IOLoop.instance().start()\n  File \"/usr/local/lib/python2.7/site-packages/zmq/eventloop/ioloop.py\", line 162, in start\n    super(ZMQIOLoop, self).start()\n  File \"/usr/local/lib/python2.7/site-packages/tornado/ioloop.py\", line 883, in start\n    handler_func(fd_obj, events)\n  File \"/usr/local/lib/python2.7/site-packages/tornado/stack_context.py\", line 275, in null_wrapper\n    return fn(*args, **kwargs)\n  File \"/usr/local/lib/python2.7/site-packages/zmq/eventloop/zmqstream.py\", line 440, in _handle_events\n    self._handle_recv()\n  File \"/usr/local/lib/python2.7/site-packages/zmq/eventloop/zmqstream.py\", line 472, in _handle_recv\n    self._run_callback(callback, msg)\n  File \"/usr/local/lib/python2.7/site-packages/zmq/eventloop/zmqstream.py\", line 414, in _run_callback\n    callback(*args, **kwargs)\n  File \"/usr/local/lib/python2.7/site-packages/tornado/stack_context.py\", line 275, in null_wrapper\n    return fn(*args, **kwargs)\n  File \"/usr/local/lib/python2.7/site-packages/ipykernel/kernelbase.py\", line 260, in dispatcher\n    return self.dispatch_shell(stream, msg)\n  File \"/usr/local/lib/python2.7/site-packages/ipykernel/kernelbase.py\", line 212, in dispatch_shell\n    handler(stream, idents, msg)\n  File \"/usr/local/lib/python2.7/site-packages/ipykernel/kernelbase.py\", line 370, in execute_request\n    user_expressions, allow_stdin)\n  File \"/usr/local/lib/python2.7/site-packages/ipykernel/ipkernel.py\", line 175, in do_execute\n    shell.run_cell(code, store_history=store_history, silent=silent)\n  File \"/usr/local/lib/python2.7/site-packages/IPython/core/interactiveshell.py\", line 2902, in run_cell\n    interactivity=interactivity, compiler=compiler, result=result)\n  File \"/usr/local/lib/python2.7/site-packages/IPython/core/interactiveshell.py\", line 3006, in run_ast_nodes\n    if self.run_code(code, result):\n  File \"/usr/local/lib/python2.7/site-packages/IPython/core/interactiveshell.py\", line 3066, in run_code\n    exec(code_obj, self.user_global_ns, self.user_ns)\n  File \"<ipython-input-8-f6c4dd7d0680>\", line 15, in <module>\n    train_step = optimizer.minimize(cross_entropy)\n  File \"/usr/local/lib/python2.7/site-packages/tensorflow/python/training/optimizer.py\", line 186, in minimize\n    aggregation_method=aggregation_method)\n  File \"/usr/local/lib/python2.7/site-packages/tensorflow/python/training/optimizer.py\", line 232, in compute_gradients\n    aggregation_method=aggregation_method)\n  File \"/usr/local/lib/python2.7/site-packages/tensorflow/python/ops/gradients.py\", line 445, in gradients\n    in_grads = _AsList(grad_fn(op_wrapper, *out_grads))\n  File \"/usr/local/lib/python2.7/site-packages/tensorflow/python/ops/nn_grad.py\", line 126, in _ReluGrad\n    t = _VerifyTensor(op.inputs[0], op.name, \"ReluGrad input is not finite.\")\n  File \"/usr/local/lib/python2.7/site-packages/tensorflow/python/ops/nn_grad.py\", line 119, in _VerifyTensor\n    verify_input = array_ops.check_numerics(t, message=msg)\n  File \"/usr/local/lib/python2.7/site-packages/tensorflow/python/ops/gen_array_ops.py\", line 48, in check_numerics\n    name=name)\n  File \"/usr/local/lib/python2.7/site-packages/tensorflow/python/ops/op_def_library.py\", line 664, in apply_op\n    op_def=op_def)\n  File \"/usr/local/lib/python2.7/site-packages/tensorflow/python/framework/ops.py\", line 1834, in create_op\n    original_op=self._default_original_op, op_def=op_def)\n  File \"/usr/local/lib/python2.7/site-packages/tensorflow/python/framework/ops.py\", line 1043, in __init__\n    self._traceback = _extract_stack()\n\n...which was originally created as op u'layer0/Relu', defined at:\n  File \"/usr/local/Cellar/python/2.7.11/Frameworks/Python.framework/Versions/2.7/lib/python2.7/runpy.py\", line 162, in _run_module_as_main\n    \"__main__\", fname, loader, pkg_name)\n[elided 17 identical lines from previous traceback]\n  File \"/usr/local/lib/python2.7/site-packages/IPython/core/interactiveshell.py\", line 3066, in run_code\n    exec(code_obj, self.user_global_ns, self.user_ns)\n  File \"<ipython-input-7-2a8f182725aa>\", line 8, in <module>\n    prev_y = dense_layer(x, input_layer_size, hidden_layer_size, tf.nn.relu)\n  File \"<ipython-input-2-2b8f3abaff4e>\", line 4, in dense_layer\n    y = activation(tf.matmul(x, W) + b)\n  File \"/usr/local/lib/python2.7/site-packages/tensorflow/python/ops/gen_nn_ops.py\", line 547, in relu\n    return _op_def_lib.apply_op(\"Relu\", features=features, name=name)\n  File \"/usr/local/lib/python2.7/site-packages/tensorflow/python/ops/op_def_library.py\", line 664, in apply_op\n    op_def=op_def)\n  File \"/usr/local/lib/python2.7/site-packages/tensorflow/python/framework/ops.py\", line 1834, in create_op\n    original_op=self._default_original_op, op_def=op_def)\n  File \"/usr/local/lib/python2.7/site-packages/tensorflow/python/framework/ops.py\", line 1043, in __init__\n    self._traceback = _extract_stack()\n",
     "output_type": "error",
     "traceback": [
      "\u001b[0;31m---------------------------------------------------------------------------\u001b[0m",
      "\u001b[0;31mInvalidArgumentError\u001b[0m                      Traceback (most recent call last)",
      "\u001b[0;32m<ipython-input-11-c0ceb8e737ed>\u001b[0m in \u001b[0;36m<module>\u001b[0;34m()\u001b[0m\n\u001b[1;32m     15\u001b[0m     \u001b[0;32mprint\u001b[0m\u001b[0;34m(\u001b[0m\u001b[0;34m\"test accuracy %g\"\u001b[0m \u001b[0;34m%\u001b[0m \u001b[0maccuracy\u001b[0m\u001b[0;34m.\u001b[0m\u001b[0meval\u001b[0m\u001b[0;34m(\u001b[0m\u001b[0mfeed_dict\u001b[0m\u001b[0;34m=\u001b[0m\u001b[0;34m{\u001b[0m \u001b[0mx\u001b[0m\u001b[0;34m:\u001b[0m \u001b[0mmnist\u001b[0m\u001b[0;34m.\u001b[0m\u001b[0mtest\u001b[0m\u001b[0;34m.\u001b[0m\u001b[0mimages\u001b[0m\u001b[0;34m,\u001b[0m \u001b[0my_\u001b[0m\u001b[0;34m:\u001b[0m \u001b[0mmnist\u001b[0m\u001b[0;34m.\u001b[0m\u001b[0mtest\u001b[0m\u001b[0;34m.\u001b[0m\u001b[0mlabels\u001b[0m\u001b[0;34m,\u001b[0m \u001b[0mg\u001b[0m\u001b[0;34m:\u001b[0m \u001b[0mgs\u001b[0m \u001b[0;34m}\u001b[0m\u001b[0;34m)\u001b[0m\u001b[0;34m)\u001b[0m\u001b[0;34m\u001b[0m\u001b[0m\n\u001b[1;32m     16\u001b[0m \u001b[0;34m\u001b[0m\u001b[0m\n\u001b[0;32m---> 17\u001b[0;31m   \u001b[0mtrain_step\u001b[0m\u001b[0;34m.\u001b[0m\u001b[0mrun\u001b[0m\u001b[0;34m(\u001b[0m\u001b[0mfeed_dict\u001b[0m\u001b[0;34m=\u001b[0m\u001b[0;34m{\u001b[0m \u001b[0mx\u001b[0m\u001b[0;34m:\u001b[0m \u001b[0mbatch_xs\u001b[0m\u001b[0;34m,\u001b[0m \u001b[0my_\u001b[0m\u001b[0;34m:\u001b[0m \u001b[0mbatch_ys\u001b[0m\u001b[0;34m,\u001b[0m \u001b[0mg\u001b[0m\u001b[0;34m:\u001b[0m \u001b[0mgs\u001b[0m\u001b[0;34m}\u001b[0m\u001b[0;34m)\u001b[0m\u001b[0;34m\u001b[0m\u001b[0m\n\u001b[0m",
      "\u001b[0;32m/usr/local/lib/python2.7/site-packages/tensorflow/python/framework/ops.pyc\u001b[0m in \u001b[0;36mrun\u001b[0;34m(self, feed_dict, session)\u001b[0m\n\u001b[1;32m   1323\u001b[0m         \u001b[0mnone\u001b[0m\u001b[0;34m,\u001b[0m \u001b[0mthe\u001b[0m \u001b[0mdefault\u001b[0m \u001b[0msession\u001b[0m \u001b[0mwill\u001b[0m \u001b[0mbe\u001b[0m \u001b[0mused\u001b[0m\u001b[0;34m.\u001b[0m\u001b[0;34m\u001b[0m\u001b[0m\n\u001b[1;32m   1324\u001b[0m     \"\"\"\n\u001b[0;32m-> 1325\u001b[0;31m     \u001b[0m_run_using_default_session\u001b[0m\u001b[0;34m(\u001b[0m\u001b[0mself\u001b[0m\u001b[0;34m,\u001b[0m \u001b[0mfeed_dict\u001b[0m\u001b[0;34m,\u001b[0m \u001b[0mself\u001b[0m\u001b[0;34m.\u001b[0m\u001b[0mgraph\u001b[0m\u001b[0;34m,\u001b[0m \u001b[0msession\u001b[0m\u001b[0;34m)\u001b[0m\u001b[0;34m\u001b[0m\u001b[0m\n\u001b[0m\u001b[1;32m   1326\u001b[0m \u001b[0;34m\u001b[0m\u001b[0m\n\u001b[1;32m   1327\u001b[0m \u001b[0;34m\u001b[0m\u001b[0m\n",
      "\u001b[0;32m/usr/local/lib/python2.7/site-packages/tensorflow/python/framework/ops.pyc\u001b[0m in \u001b[0;36m_run_using_default_session\u001b[0;34m(operation, feed_dict, graph, session)\u001b[0m\n\u001b[1;32m   2943\u001b[0m                        \u001b[0;34m\"the operation's graph is different from the session's \"\u001b[0m\u001b[0;34m\u001b[0m\u001b[0m\n\u001b[1;32m   2944\u001b[0m                        \"graph.\")\n\u001b[0;32m-> 2945\u001b[0;31m   \u001b[0msession\u001b[0m\u001b[0;34m.\u001b[0m\u001b[0mrun\u001b[0m\u001b[0;34m(\u001b[0m\u001b[0moperation\u001b[0m\u001b[0;34m,\u001b[0m \u001b[0mfeed_dict\u001b[0m\u001b[0;34m)\u001b[0m\u001b[0;34m\u001b[0m\u001b[0m\n\u001b[0m\u001b[1;32m   2946\u001b[0m \u001b[0;34m\u001b[0m\u001b[0m\n\u001b[1;32m   2947\u001b[0m \u001b[0;34m\u001b[0m\u001b[0m\n",
      "\u001b[0;32m/usr/local/lib/python2.7/site-packages/tensorflow/python/client/session.pyc\u001b[0m in \u001b[0;36mrun\u001b[0;34m(self, fetches, feed_dict)\u001b[0m\n\u001b[1;32m    366\u001b[0m \u001b[0;34m\u001b[0m\u001b[0m\n\u001b[1;32m    367\u001b[0m     \u001b[0;31m# Run request and get response.\u001b[0m\u001b[0;34m\u001b[0m\u001b[0;34m\u001b[0m\u001b[0m\n\u001b[0;32m--> 368\u001b[0;31m     \u001b[0mresults\u001b[0m \u001b[0;34m=\u001b[0m \u001b[0mself\u001b[0m\u001b[0;34m.\u001b[0m\u001b[0m_do_run\u001b[0m\u001b[0;34m(\u001b[0m\u001b[0mtarget_list\u001b[0m\u001b[0;34m,\u001b[0m \u001b[0munique_fetch_targets\u001b[0m\u001b[0;34m,\u001b[0m \u001b[0mfeed_dict_string\u001b[0m\u001b[0;34m)\u001b[0m\u001b[0;34m\u001b[0m\u001b[0m\n\u001b[0m\u001b[1;32m    369\u001b[0m \u001b[0;34m\u001b[0m\u001b[0m\n\u001b[1;32m    370\u001b[0m     \u001b[0;31m# User may have fetched the same tensor multiple times, but we\u001b[0m\u001b[0;34m\u001b[0m\u001b[0;34m\u001b[0m\u001b[0m\n",
      "\u001b[0;32m/usr/local/lib/python2.7/site-packages/tensorflow/python/client/session.pyc\u001b[0m in \u001b[0;36m_do_run\u001b[0;34m(self, target_list, fetch_list, feed_dict)\u001b[0m\n\u001b[1;32m    442\u001b[0m         \u001b[0;31m# pylint: disable=protected-access\u001b[0m\u001b[0;34m\u001b[0m\u001b[0;34m\u001b[0m\u001b[0m\n\u001b[1;32m    443\u001b[0m         raise errors._make_specific_exception(node_def, op, error_message,\n\u001b[0;32m--> 444\u001b[0;31m                                               e.code)\n\u001b[0m\u001b[1;32m    445\u001b[0m         \u001b[0;31m# pylint: enable=protected-access\u001b[0m\u001b[0;34m\u001b[0m\u001b[0;34m\u001b[0m\u001b[0m\n\u001b[1;32m    446\u001b[0m       \u001b[0msix\u001b[0m\u001b[0;34m.\u001b[0m\u001b[0mreraise\u001b[0m\u001b[0;34m(\u001b[0m\u001b[0me_type\u001b[0m\u001b[0;34m,\u001b[0m \u001b[0me_value\u001b[0m\u001b[0;34m,\u001b[0m \u001b[0me_traceback\u001b[0m\u001b[0;34m)\u001b[0m\u001b[0;34m\u001b[0m\u001b[0m\n",
      "\u001b[0;31mInvalidArgumentError\u001b[0m: ReluGrad input is not finite. : Tensor had NaN values\n\t [[Node: train/gradients_1/layer0/Relu_grad/layer0/Relu/CheckNumerics = CheckNumerics[T=DT_FLOAT, message=\"ReluGrad input is not finite.\", _device=\"/job:localhost/replica:0/task:0/cpu:0\"](layer0/add)]]\nCaused by op u'train/gradients_1/layer0/Relu_grad/layer0/Relu/CheckNumerics', defined at:\n  File \"/usr/local/Cellar/python/2.7.11/Frameworks/Python.framework/Versions/2.7/lib/python2.7/runpy.py\", line 162, in _run_module_as_main\n    \"__main__\", fname, loader, pkg_name)\n  File \"/usr/local/Cellar/python/2.7.11/Frameworks/Python.framework/Versions/2.7/lib/python2.7/runpy.py\", line 72, in _run_code\n    exec code in run_globals\n  File \"/usr/local/lib/python2.7/site-packages/ipykernel/__main__.py\", line 3, in <module>\n    app.launch_new_instance()\n  File \"/usr/local/lib/python2.7/site-packages/traitlets/config/application.py\", line 592, in launch_instance\n    app.start()\n  File \"/usr/local/lib/python2.7/site-packages/ipykernel/kernelapp.py\", line 403, in start\n    ioloop.IOLoop.instance().start()\n  File \"/usr/local/lib/python2.7/site-packages/zmq/eventloop/ioloop.py\", line 162, in start\n    super(ZMQIOLoop, self).start()\n  File \"/usr/local/lib/python2.7/site-packages/tornado/ioloop.py\", line 883, in start\n    handler_func(fd_obj, events)\n  File \"/usr/local/lib/python2.7/site-packages/tornado/stack_context.py\", line 275, in null_wrapper\n    return fn(*args, **kwargs)\n  File \"/usr/local/lib/python2.7/site-packages/zmq/eventloop/zmqstream.py\", line 440, in _handle_events\n    self._handle_recv()\n  File \"/usr/local/lib/python2.7/site-packages/zmq/eventloop/zmqstream.py\", line 472, in _handle_recv\n    self._run_callback(callback, msg)\n  File \"/usr/local/lib/python2.7/site-packages/zmq/eventloop/zmqstream.py\", line 414, in _run_callback\n    callback(*args, **kwargs)\n  File \"/usr/local/lib/python2.7/site-packages/tornado/stack_context.py\", line 275, in null_wrapper\n    return fn(*args, **kwargs)\n  File \"/usr/local/lib/python2.7/site-packages/ipykernel/kernelbase.py\", line 260, in dispatcher\n    return self.dispatch_shell(stream, msg)\n  File \"/usr/local/lib/python2.7/site-packages/ipykernel/kernelbase.py\", line 212, in dispatch_shell\n    handler(stream, idents, msg)\n  File \"/usr/local/lib/python2.7/site-packages/ipykernel/kernelbase.py\", line 370, in execute_request\n    user_expressions, allow_stdin)\n  File \"/usr/local/lib/python2.7/site-packages/ipykernel/ipkernel.py\", line 175, in do_execute\n    shell.run_cell(code, store_history=store_history, silent=silent)\n  File \"/usr/local/lib/python2.7/site-packages/IPython/core/interactiveshell.py\", line 2902, in run_cell\n    interactivity=interactivity, compiler=compiler, result=result)\n  File \"/usr/local/lib/python2.7/site-packages/IPython/core/interactiveshell.py\", line 3006, in run_ast_nodes\n    if self.run_code(code, result):\n  File \"/usr/local/lib/python2.7/site-packages/IPython/core/interactiveshell.py\", line 3066, in run_code\n    exec(code_obj, self.user_global_ns, self.user_ns)\n  File \"<ipython-input-8-f6c4dd7d0680>\", line 15, in <module>\n    train_step = optimizer.minimize(cross_entropy)\n  File \"/usr/local/lib/python2.7/site-packages/tensorflow/python/training/optimizer.py\", line 186, in minimize\n    aggregation_method=aggregation_method)\n  File \"/usr/local/lib/python2.7/site-packages/tensorflow/python/training/optimizer.py\", line 232, in compute_gradients\n    aggregation_method=aggregation_method)\n  File \"/usr/local/lib/python2.7/site-packages/tensorflow/python/ops/gradients.py\", line 445, in gradients\n    in_grads = _AsList(grad_fn(op_wrapper, *out_grads))\n  File \"/usr/local/lib/python2.7/site-packages/tensorflow/python/ops/nn_grad.py\", line 126, in _ReluGrad\n    t = _VerifyTensor(op.inputs[0], op.name, \"ReluGrad input is not finite.\")\n  File \"/usr/local/lib/python2.7/site-packages/tensorflow/python/ops/nn_grad.py\", line 119, in _VerifyTensor\n    verify_input = array_ops.check_numerics(t, message=msg)\n  File \"/usr/local/lib/python2.7/site-packages/tensorflow/python/ops/gen_array_ops.py\", line 48, in check_numerics\n    name=name)\n  File \"/usr/local/lib/python2.7/site-packages/tensorflow/python/ops/op_def_library.py\", line 664, in apply_op\n    op_def=op_def)\n  File \"/usr/local/lib/python2.7/site-packages/tensorflow/python/framework/ops.py\", line 1834, in create_op\n    original_op=self._default_original_op, op_def=op_def)\n  File \"/usr/local/lib/python2.7/site-packages/tensorflow/python/framework/ops.py\", line 1043, in __init__\n    self._traceback = _extract_stack()\n\n...which was originally created as op u'layer0/Relu', defined at:\n  File \"/usr/local/Cellar/python/2.7.11/Frameworks/Python.framework/Versions/2.7/lib/python2.7/runpy.py\", line 162, in _run_module_as_main\n    \"__main__\", fname, loader, pkg_name)\n[elided 17 identical lines from previous traceback]\n  File \"/usr/local/lib/python2.7/site-packages/IPython/core/interactiveshell.py\", line 3066, in run_code\n    exec(code_obj, self.user_global_ns, self.user_ns)\n  File \"<ipython-input-7-2a8f182725aa>\", line 8, in <module>\n    prev_y = dense_layer(x, input_layer_size, hidden_layer_size, tf.nn.relu)\n  File \"<ipython-input-2-2b8f3abaff4e>\", line 4, in dense_layer\n    y = activation(tf.matmul(x, W) + b)\n  File \"/usr/local/lib/python2.7/site-packages/tensorflow/python/ops/gen_nn_ops.py\", line 547, in relu\n    return _op_def_lib.apply_op(\"Relu\", features=features, name=name)\n  File \"/usr/local/lib/python2.7/site-packages/tensorflow/python/ops/op_def_library.py\", line 664, in apply_op\n    op_def=op_def)\n  File \"/usr/local/lib/python2.7/site-packages/tensorflow/python/framework/ops.py\", line 1834, in create_op\n    original_op=self._default_original_op, op_def=op_def)\n  File \"/usr/local/lib/python2.7/site-packages/tensorflow/python/framework/ops.py\", line 1043, in __init__\n    self._traceback = _extract_stack()\n"
     ]
    }
   ],
   "source": [
    "for i in range(num_iter):\n",
    "  batch_xs, batch_ys = mnist.train.next_batch(mini_batch_size)\n",
    "\n",
    "  epoch = i / iter_per_epoch\n",
    "  gs = min(epoch / tau, 1.0)\n",
    "\n",
    "  if i % 100 == 0:\n",
    "    summary_str, train_accuracy, grad_norm = sess.run([merged, accuracy, gradient_norm], feed_dict={\n",
    "        x: batch_xs,\n",
    "        y_: batch_ys,\n",
    "        g: gs,\n",
    "    })\n",
    "    writer.add_summary(summary_str, i)\n",
    "    print(\"iter %d, epoch %d, training accuracy %g, g: %g, grad_norm: %g\" % (i, epoch, train_accuracy, gs, grad_norm))\n",
    "    print(\"test accuracy %g\" % accuracy.eval(feed_dict={ x: mnist.test.images, y_: mnist.test.labels, g: gs }))\n",
    "\n",
    "  train_step.run(feed_dict={ x: batch_xs, y_: batch_ys, g: gs})"
   ]
  },
  {
   "cell_type": "markdown",
   "metadata": {},
   "source": [
    "Notes:\n",
    "\n",
    "* Check whether test set eval is causing training on test set\n",
    "* Add gradient checking (take reduce_mean of norm of gradients) to see if gradients are exploding"
   ]
  },
  {
   "cell_type": "code",
   "execution_count": null,
   "metadata": {
    "collapsed": true
   },
   "outputs": [],
   "source": []
  }
 ],
 "metadata": {
  "kernelspec": {
   "display_name": "Python 2",
   "language": "python",
   "name": "python2"
  },
  "language_info": {
   "codemirror_mode": {
    "name": "ipython",
    "version": 2
   },
   "file_extension": ".py",
   "mimetype": "text/x-python",
   "name": "python",
   "nbconvert_exporter": "python",
   "pygments_lexer": "ipython2",
   "version": "2.7.11"
  }
 },
 "nbformat": 4,
 "nbformat_minor": 0
}
